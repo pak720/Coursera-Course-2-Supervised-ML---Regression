{
 "cells": [
  {
   "cell_type": "markdown",
   "id": "891288ee-37d3-42e8-8c0b-680b4bceddc4",
   "metadata": {},
   "source": [
    "<center>\n",
    "    <img src=\"https://cf-courses-data.s3.us.cloud-object-storage.appdomain.cloud/IBMDeveloperSkillsNetwork-PY0101EN-SkillsNetwork/IDSNlogo.png\" width=\"300\" alt=\"cognitiveclass.ai logo\">\n",
    "</center>\n",
    "\n",
    "\n",
    "# Machine Learning Foundation\n",
    "\n",
    "## Section 2, Part a: Regression Intro: Transforming Target \n"
   ]
  },
  {
   "cell_type": "markdown",
   "id": "f72096cc-c608-4a06-a29e-9ff349a85628",
   "metadata": {},
   "source": [
    "## Learning objectives\n",
    "\n",
    "By the end of this lesson, you will be able to:\n",
    "\n",
    "* Apply transformations to make target variable more normally distributed for Regression\n",
    "* Apply inverse transformations to be able to use these in a Regression context\n"
   ]
  },
  {
   "cell_type": "code",
   "execution_count": null,
   "id": "7f26646f-4c51-4289-b757-79521aad19a1",
   "metadata": {},
   "outputs": [],
   "source": [
    "!pip install numpy\n",
    "!pip install pandas\n",
    "!pip install matplotlib\n",
    "!pip install scipy\n",
    "!pip install scikit-learn"
   ]
  },
  {
   "cell_type": "code",
   "execution_count": null,
   "id": "953bcfa2-387f-4bf6-abf4-5545f33e6512",
   "metadata": {},
   "outputs": [],
   "source": [
    "# Import libraries\n",
    "import numpy as np\n",
    "import pandas as pd\n",
    "import matplotlib.pyplot as plt\n",
    "%matplotlib inline\n",
    "\n",
    "# Surpress warnings:\n",
    "def warn(*args, **kwargs):\n",
    "    pass\n",
    "import warnings\n",
    "warnings.warn = warn"
   ]
  },
  {
   "cell_type": "markdown",
   "id": "3ca018a6-dc91-458e-b2ac-da28c65d2282",
   "metadata": {},
   "source": [
    "In the following cells we will load the data and define some useful plotting functions.\n"
   ]
  },
  {
   "cell_type": "code",
   "execution_count": null,
   "id": "f7a2c815-4754-4141-966e-fe964309fea4",
   "metadata": {},
   "outputs": [],
   "source": [
    "# Set random seed for reproducibility\n",
    "np.random.seed(72018)\n",
    "\n",
    "# Function to convert any array to 2D\n",
    "def to_2d(array):\n",
    "    return array.reshape(array.shape[0], -1)\n",
    "# Function to plot exponential data    \n",
    "def plot_exponential_data():\n",
    "    data = np.exp(np.random.normal(size=1000))\n",
    "    plt.hist(data)\n",
    "    plt.show()\n",
    "    return data\n",
    "# Function to plot squared normal data    \n",
    "def plot_square_normal_data():\n",
    "    data = np.square(np.random.normal(loc=5, size=1000))\n",
    "    plt.hist(data)\n",
    "    plt.show()\n",
    "    return data"
   ]
  },
  {
   "cell_type": "code",
   "execution_count": null,
   "id": "77905866-5313-415b-ac5b-c8e66cbd221f",
   "metadata": {},
   "outputs": [
    {
     "name": "stdout",
     "output_type": "stream",
     "text": [
      "Download complete: data\\boston_housing_clean.pickle\n"
     ]
    }
   ],
   "source": [
    "# Download the dataset\n",
    "import urllib.request\n",
    "\n",
    "url = \"https://cf-courses-data.s3.us.cloud-object-storage.appdomain.cloud/IBM-ML240EN-SkillsNetwork/labs/data/boston_housing_clean.pickle\"\n",
    "filename = \"boston_housing_clean.pickle\"\n",
    "\n",
    "urllib.request.urlretrieve(url, filename)\n",
    "print(\"Download complete:\", filename)\n"
   ]
  },
  {
   "cell_type": "markdown",
   "id": "ff9a021f-470c-4b11-8dab-d278f0283578",
   "metadata": {},
   "source": [
    "### Loading the Boston Housing Data\n"
   ]
  },
  {
   "cell_type": "code",
   "execution_count": null,
   "id": "d68620b1-0cec-49e2-b5d0-72d51fd4dab1",
   "metadata": {},
   "outputs": [],
   "source": [
    "# Load the Boston housing dataset\n",
    "with open('boston_housing_clean.pickle', 'rb') as to_read:\n",
    "    boston = pd.read_pickle(to_read)\n",
    "boston_data = boston['dataframe']\n",
    "boston_description = boston['description']\n"
   ]
  },
  {
   "cell_type": "code",
   "execution_count": null,
   "id": "69d66928-b736-46c3-9ec0-faecb7bcc614",
   "metadata": {},
   "outputs": [
    {
     "data": {
      "text/html": [
       "<div>\n",
       "<style scoped>\n",
       "    .dataframe tbody tr th:only-of-type {\n",
       "        vertical-align: middle;\n",
       "    }\n",
       "\n",
       "    .dataframe tbody tr th {\n",
       "        vertical-align: top;\n",
       "    }\n",
       "\n",
       "    .dataframe thead th {\n",
       "        text-align: right;\n",
       "    }\n",
       "</style>\n",
       "<table border=\"1\" class=\"dataframe\">\n",
       "  <thead>\n",
       "    <tr style=\"text-align: right;\">\n",
       "      <th></th>\n",
       "      <th>CRIM</th>\n",
       "      <th>ZN</th>\n",
       "      <th>INDUS</th>\n",
       "      <th>CHAS</th>\n",
       "      <th>NOX</th>\n",
       "      <th>RM</th>\n",
       "      <th>AGE</th>\n",
       "      <th>DIS</th>\n",
       "      <th>RAD</th>\n",
       "      <th>TAX</th>\n",
       "      <th>PTRATIO</th>\n",
       "      <th>B</th>\n",
       "      <th>LSTAT</th>\n",
       "      <th>MEDV</th>\n",
       "    </tr>\n",
       "  </thead>\n",
       "  <tbody>\n",
       "    <tr>\n",
       "      <th>0</th>\n",
       "      <td>0.00632</td>\n",
       "      <td>18.0</td>\n",
       "      <td>2.31</td>\n",
       "      <td>0.0</td>\n",
       "      <td>0.538</td>\n",
       "      <td>6.575</td>\n",
       "      <td>65.2</td>\n",
       "      <td>4.0900</td>\n",
       "      <td>1.0</td>\n",
       "      <td>296.0</td>\n",
       "      <td>15.3</td>\n",
       "      <td>396.90</td>\n",
       "      <td>4.98</td>\n",
       "      <td>24.0</td>\n",
       "    </tr>\n",
       "    <tr>\n",
       "      <th>1</th>\n",
       "      <td>0.02731</td>\n",
       "      <td>0.0</td>\n",
       "      <td>7.07</td>\n",
       "      <td>0.0</td>\n",
       "      <td>0.469</td>\n",
       "      <td>6.421</td>\n",
       "      <td>78.9</td>\n",
       "      <td>4.9671</td>\n",
       "      <td>2.0</td>\n",
       "      <td>242.0</td>\n",
       "      <td>17.8</td>\n",
       "      <td>396.90</td>\n",
       "      <td>9.14</td>\n",
       "      <td>21.6</td>\n",
       "    </tr>\n",
       "    <tr>\n",
       "      <th>2</th>\n",
       "      <td>0.02729</td>\n",
       "      <td>0.0</td>\n",
       "      <td>7.07</td>\n",
       "      <td>0.0</td>\n",
       "      <td>0.469</td>\n",
       "      <td>7.185</td>\n",
       "      <td>61.1</td>\n",
       "      <td>4.9671</td>\n",
       "      <td>2.0</td>\n",
       "      <td>242.0</td>\n",
       "      <td>17.8</td>\n",
       "      <td>392.83</td>\n",
       "      <td>4.03</td>\n",
       "      <td>34.7</td>\n",
       "    </tr>\n",
       "    <tr>\n",
       "      <th>3</th>\n",
       "      <td>0.03237</td>\n",
       "      <td>0.0</td>\n",
       "      <td>2.18</td>\n",
       "      <td>0.0</td>\n",
       "      <td>0.458</td>\n",
       "      <td>6.998</td>\n",
       "      <td>45.8</td>\n",
       "      <td>6.0622</td>\n",
       "      <td>3.0</td>\n",
       "      <td>222.0</td>\n",
       "      <td>18.7</td>\n",
       "      <td>394.63</td>\n",
       "      <td>2.94</td>\n",
       "      <td>33.4</td>\n",
       "    </tr>\n",
       "    <tr>\n",
       "      <th>4</th>\n",
       "      <td>0.06905</td>\n",
       "      <td>0.0</td>\n",
       "      <td>2.18</td>\n",
       "      <td>0.0</td>\n",
       "      <td>0.458</td>\n",
       "      <td>7.147</td>\n",
       "      <td>54.2</td>\n",
       "      <td>6.0622</td>\n",
       "      <td>3.0</td>\n",
       "      <td>222.0</td>\n",
       "      <td>18.7</td>\n",
       "      <td>396.90</td>\n",
       "      <td>5.33</td>\n",
       "      <td>36.2</td>\n",
       "    </tr>\n",
       "    <tr>\n",
       "      <th>5</th>\n",
       "      <td>0.02985</td>\n",
       "      <td>0.0</td>\n",
       "      <td>2.18</td>\n",
       "      <td>0.0</td>\n",
       "      <td>0.458</td>\n",
       "      <td>6.430</td>\n",
       "      <td>58.7</td>\n",
       "      <td>6.0622</td>\n",
       "      <td>3.0</td>\n",
       "      <td>222.0</td>\n",
       "      <td>18.7</td>\n",
       "      <td>394.12</td>\n",
       "      <td>5.21</td>\n",
       "      <td>28.7</td>\n",
       "    </tr>\n",
       "    <tr>\n",
       "      <th>6</th>\n",
       "      <td>0.08829</td>\n",
       "      <td>12.5</td>\n",
       "      <td>7.87</td>\n",
       "      <td>0.0</td>\n",
       "      <td>0.524</td>\n",
       "      <td>6.012</td>\n",
       "      <td>66.6</td>\n",
       "      <td>5.5605</td>\n",
       "      <td>5.0</td>\n",
       "      <td>311.0</td>\n",
       "      <td>15.2</td>\n",
       "      <td>395.60</td>\n",
       "      <td>12.43</td>\n",
       "      <td>22.9</td>\n",
       "    </tr>\n",
       "    <tr>\n",
       "      <th>7</th>\n",
       "      <td>0.14455</td>\n",
       "      <td>12.5</td>\n",
       "      <td>7.87</td>\n",
       "      <td>0.0</td>\n",
       "      <td>0.524</td>\n",
       "      <td>6.172</td>\n",
       "      <td>96.1</td>\n",
       "      <td>5.9505</td>\n",
       "      <td>5.0</td>\n",
       "      <td>311.0</td>\n",
       "      <td>15.2</td>\n",
       "      <td>396.90</td>\n",
       "      <td>19.15</td>\n",
       "      <td>27.1</td>\n",
       "    </tr>\n",
       "    <tr>\n",
       "      <th>8</th>\n",
       "      <td>0.21124</td>\n",
       "      <td>12.5</td>\n",
       "      <td>7.87</td>\n",
       "      <td>0.0</td>\n",
       "      <td>0.524</td>\n",
       "      <td>5.631</td>\n",
       "      <td>100.0</td>\n",
       "      <td>6.0821</td>\n",
       "      <td>5.0</td>\n",
       "      <td>311.0</td>\n",
       "      <td>15.2</td>\n",
       "      <td>386.63</td>\n",
       "      <td>29.93</td>\n",
       "      <td>16.5</td>\n",
       "    </tr>\n",
       "    <tr>\n",
       "      <th>9</th>\n",
       "      <td>0.17004</td>\n",
       "      <td>12.5</td>\n",
       "      <td>7.87</td>\n",
       "      <td>0.0</td>\n",
       "      <td>0.524</td>\n",
       "      <td>6.004</td>\n",
       "      <td>85.9</td>\n",
       "      <td>6.5921</td>\n",
       "      <td>5.0</td>\n",
       "      <td>311.0</td>\n",
       "      <td>15.2</td>\n",
       "      <td>386.71</td>\n",
       "      <td>17.10</td>\n",
       "      <td>18.9</td>\n",
       "    </tr>\n",
       "    <tr>\n",
       "      <th>10</th>\n",
       "      <td>0.22489</td>\n",
       "      <td>12.5</td>\n",
       "      <td>7.87</td>\n",
       "      <td>0.0</td>\n",
       "      <td>0.524</td>\n",
       "      <td>6.377</td>\n",
       "      <td>94.3</td>\n",
       "      <td>6.3467</td>\n",
       "      <td>5.0</td>\n",
       "      <td>311.0</td>\n",
       "      <td>15.2</td>\n",
       "      <td>392.52</td>\n",
       "      <td>20.45</td>\n",
       "      <td>15.0</td>\n",
       "    </tr>\n",
       "    <tr>\n",
       "      <th>11</th>\n",
       "      <td>0.11747</td>\n",
       "      <td>12.5</td>\n",
       "      <td>7.87</td>\n",
       "      <td>0.0</td>\n",
       "      <td>0.524</td>\n",
       "      <td>6.009</td>\n",
       "      <td>82.9</td>\n",
       "      <td>6.2267</td>\n",
       "      <td>5.0</td>\n",
       "      <td>311.0</td>\n",
       "      <td>15.2</td>\n",
       "      <td>396.90</td>\n",
       "      <td>13.27</td>\n",
       "      <td>18.9</td>\n",
       "    </tr>\n",
       "    <tr>\n",
       "      <th>12</th>\n",
       "      <td>0.09378</td>\n",
       "      <td>12.5</td>\n",
       "      <td>7.87</td>\n",
       "      <td>0.0</td>\n",
       "      <td>0.524</td>\n",
       "      <td>5.889</td>\n",
       "      <td>39.0</td>\n",
       "      <td>5.4509</td>\n",
       "      <td>5.0</td>\n",
       "      <td>311.0</td>\n",
       "      <td>15.2</td>\n",
       "      <td>390.50</td>\n",
       "      <td>15.71</td>\n",
       "      <td>21.7</td>\n",
       "    </tr>\n",
       "    <tr>\n",
       "      <th>13</th>\n",
       "      <td>0.62976</td>\n",
       "      <td>0.0</td>\n",
       "      <td>8.14</td>\n",
       "      <td>0.0</td>\n",
       "      <td>0.538</td>\n",
       "      <td>5.949</td>\n",
       "      <td>61.8</td>\n",
       "      <td>4.7075</td>\n",
       "      <td>4.0</td>\n",
       "      <td>307.0</td>\n",
       "      <td>21.0</td>\n",
       "      <td>396.90</td>\n",
       "      <td>8.26</td>\n",
       "      <td>20.4</td>\n",
       "    </tr>\n",
       "    <tr>\n",
       "      <th>14</th>\n",
       "      <td>0.63796</td>\n",
       "      <td>0.0</td>\n",
       "      <td>8.14</td>\n",
       "      <td>0.0</td>\n",
       "      <td>0.538</td>\n",
       "      <td>6.096</td>\n",
       "      <td>84.5</td>\n",
       "      <td>4.4619</td>\n",
       "      <td>4.0</td>\n",
       "      <td>307.0</td>\n",
       "      <td>21.0</td>\n",
       "      <td>380.02</td>\n",
       "      <td>10.26</td>\n",
       "      <td>18.2</td>\n",
       "    </tr>\n",
       "  </tbody>\n",
       "</table>\n",
       "</div>"
      ],
      "text/plain": [
       "       CRIM    ZN  INDUS  CHAS    NOX     RM    AGE     DIS  RAD    TAX  \\\n",
       "0   0.00632  18.0   2.31   0.0  0.538  6.575   65.2  4.0900  1.0  296.0   \n",
       "1   0.02731   0.0   7.07   0.0  0.469  6.421   78.9  4.9671  2.0  242.0   \n",
       "2   0.02729   0.0   7.07   0.0  0.469  7.185   61.1  4.9671  2.0  242.0   \n",
       "3   0.03237   0.0   2.18   0.0  0.458  6.998   45.8  6.0622  3.0  222.0   \n",
       "4   0.06905   0.0   2.18   0.0  0.458  7.147   54.2  6.0622  3.0  222.0   \n",
       "5   0.02985   0.0   2.18   0.0  0.458  6.430   58.7  6.0622  3.0  222.0   \n",
       "6   0.08829  12.5   7.87   0.0  0.524  6.012   66.6  5.5605  5.0  311.0   \n",
       "7   0.14455  12.5   7.87   0.0  0.524  6.172   96.1  5.9505  5.0  311.0   \n",
       "8   0.21124  12.5   7.87   0.0  0.524  5.631  100.0  6.0821  5.0  311.0   \n",
       "9   0.17004  12.5   7.87   0.0  0.524  6.004   85.9  6.5921  5.0  311.0   \n",
       "10  0.22489  12.5   7.87   0.0  0.524  6.377   94.3  6.3467  5.0  311.0   \n",
       "11  0.11747  12.5   7.87   0.0  0.524  6.009   82.9  6.2267  5.0  311.0   \n",
       "12  0.09378  12.5   7.87   0.0  0.524  5.889   39.0  5.4509  5.0  311.0   \n",
       "13  0.62976   0.0   8.14   0.0  0.538  5.949   61.8  4.7075  4.0  307.0   \n",
       "14  0.63796   0.0   8.14   0.0  0.538  6.096   84.5  4.4619  4.0  307.0   \n",
       "\n",
       "    PTRATIO       B  LSTAT  MEDV  \n",
       "0      15.3  396.90   4.98  24.0  \n",
       "1      17.8  396.90   9.14  21.6  \n",
       "2      17.8  392.83   4.03  34.7  \n",
       "3      18.7  394.63   2.94  33.4  \n",
       "4      18.7  396.90   5.33  36.2  \n",
       "5      18.7  394.12   5.21  28.7  \n",
       "6      15.2  395.60  12.43  22.9  \n",
       "7      15.2  396.90  19.15  27.1  \n",
       "8      15.2  386.63  29.93  16.5  \n",
       "9      15.2  386.71  17.10  18.9  \n",
       "10     15.2  392.52  20.45  15.0  \n",
       "11     15.2  396.90  13.27  18.9  \n",
       "12     15.2  390.50  15.71  21.7  \n",
       "13     21.0  396.90   8.26  20.4  \n",
       "14     21.0  380.02  10.26  18.2  "
      ]
     },
     "execution_count": 9,
     "metadata": {},
     "output_type": "execute_result"
    }
   ],
   "source": [
    "# Show the first 15 records of the dataset\n",
    "boston_data.head(15)"
   ]
  },
  {
   "cell_type": "markdown",
   "id": "0f8a5ebe-832b-4dd3-b738-a722ec82fb9c",
   "metadata": {},
   "source": [
    "### Determining Normality\n"
   ]
  },
  {
   "cell_type": "markdown",
   "id": "8951eb93-5906-45e0-b433-839fe78b5c17",
   "metadata": {},
   "source": [
    "Making our target variable normally distributed often will lead to better results\n",
    "\n",
    "If our target is not normally distributed, we can apply a transformation to it and then fit our regression to predict the transformed values.\n",
    "\n",
    "How can we tell if our target is normally distributed? There are two ways:\n",
    "\n",
    "* Using a Visual approach\n",
    "* Using a Statistical Test\n"
   ]
  },
  {
   "cell_type": "markdown",
   "id": "d2085917-51d5-429e-8ffd-25e085c85136",
   "metadata": {},
   "source": [
    "#### Using a Visual approach\n"
   ]
  },
  {
   "cell_type": "markdown",
   "id": "8ac55b90-3a8e-4238-90b3-4990bc28a353",
   "metadata": {},
   "source": [
    "#### Plotting a histogram:\n"
   ]
  },
  {
   "cell_type": "code",
   "execution_count": null,
   "id": "4311c0f5-55e0-47f6-b978-9752cf1e46b6",
   "metadata": {},
   "outputs": [
    {
     "data": {
      "image/png": "[encoded data removed]",
      "text/plain": [
       "<Figure size 640x480 with 1 Axes>"
      ]
     },
     "metadata": {},
     "output_type": "display_data"
    }
   ],
   "source": [
    "# Plot the histogram of the target variable 'MEDV'\n",
    "boston_data.MEDV.hist();"
   ]
  },
  {
   "cell_type": "markdown",
   "id": "c1817791-3bb6-4911-b418-55bb491176e0",
   "metadata": {},
   "source": [
    "The histogram does not look normal due to its right tail.\n"
   ]
  },
  {
   "cell_type": "markdown",
   "id": "14bda4e2-02a3-4ffc-8fe3-f47f8cda714c",
   "metadata": {},
   "source": [
    "#### Using a Statistical Test\n"
   ]
  },
  {
   "cell_type": "markdown",
   "id": "f8d2e246-6568-40ca-b75d-9de4dbf3b843",
   "metadata": {},
   "source": [
    "Without getting into Bayesian vs. frequentist debates, for the purposes of this lesson, the following will suffice:\n",
    "\n",
    "* This is a statistical test that tests whether a distribution is normally distributed or not. It isn't perfect, but suffice it to say: \n",
    "    * This test outputs a **p-value**. The _higher_ this p-value is the _closer_ the distribution is to normal.\n",
    "    * Frequentist statisticians would say that you accept that the distribution is normal (more specifically: fail to reject the null hypothesis that it is normal) if p > 0.05.\n"
   ]
  },
  {
   "cell_type": "code",
   "execution_count": null,
   "id": "b32f83d4-806e-4896-ac6c-9a311d34ef78",
   "metadata": {},
   "outputs": [],
   "source": [
    "\n",
    "from scipy.stats.mstats import normaltest # D'Agostino K^2 Test"
   ]
  },
  {
   "cell_type": "code",
   "execution_count": null,
   "id": "5c4d6626-3818-48c0-b47b-aa25c416ce14",
   "metadata": {},
   "outputs": [
    {
     "data": {
      "text/plain": [
       "NormaltestResult(statistic=np.float64(90.9746873700967), pvalue=np.float64(1.7583188871696098e-20))"
      ]
     },
     "execution_count": 12,
     "metadata": {},
     "output_type": "execute_result"
    }
   ],
   "source": [
    "# Apply the normality test\n",
    "normaltest(boston_data.MEDV.values)"
   ]
  },
  {
   "cell_type": "markdown",
   "id": "53b25f5e-c72c-4f08-89fb-68e12bd40098",
   "metadata": {},
   "source": [
    "p-value is _extremely_ low. Our **y** variable which we have been dealing with this whole time was not normally distributed!\n"
   ]
  },
  {
   "cell_type": "markdown",
   "id": "19cc4546-261e-4124-a6ed-fea6de5ce594",
   "metadata": {},
   "source": [
    "### Apply transformations to make target variable more normally distributed for Regression\n"
   ]
  },
  {
   "cell_type": "markdown",
   "id": "a591ab0e-fe9b-4496-bd36-b578d11db90d",
   "metadata": {},
   "source": [
    "Linear Regression assumes a normally distributed residuals which can be aided by transforming **y** variable which is the target variable. Let's try some common transformations to try and get **y** to be normally distributed: \n",
    "\n",
    "* Log Transformation\n",
    "* Square root Transformation\n",
    "* Box cox Transformation\n"
   ]
  },
  {
   "cell_type": "markdown",
   "id": "51bec534-1688-4776-a6e2-9cf526f6fcb3",
   "metadata": {},
   "source": [
    "### Log Transformation\n"
   ]
  },
  {
   "cell_type": "markdown",
   "id": "5c2f78c5-aeec-4d8b-a06b-4d7855cb3fe4",
   "metadata": {},
   "source": [
    "The log transformation can transform data that is significantly skewed right to be more normally distributed:\n"
   ]
  },
  {
   "cell_type": "code",
   "execution_count": null,
   "id": "5c636751-5c8f-4284-bb07-31176db31f42",
   "metadata": {},
   "outputs": [
    {
     "data": {
      "image/png": "[encoded data removed]",
      "text/plain": [
       "<Figure size 640x480 with 1 Axes>"
      ]
     },
     "metadata": {},
     "output_type": "display_data"
    }
   ],
   "source": [
    "# Plot exponential data\n",
    "data = plot_exponential_data()"
   ]
  },
  {
   "cell_type": "code",
   "execution_count": null,
   "id": "f5afc765-7c48-4507-9d69-2cd870aefa94",
   "metadata": {},
   "outputs": [
    {
     "data": {
      "image/png": "[encoded data removed]",
      "text/plain": [
       "<Figure size 640x480 with 1 Axes>"
      ]
     },
     "metadata": {},
     "output_type": "display_data"
    }
   ],
   "source": [
    "# Apply log transformation\n",
    "plt.hist(np.log(data));"
   ]
  },
  {
   "cell_type": "markdown",
   "id": "72caecc3-68ab-45f1-bcd6-340bf161506f",
   "metadata": {},
   "source": [
    "**Apply transformation to Boston Housing data:**\n"
   ]
  },
  {
   "cell_type": "code",
   "execution_count": null,
   "id": "fa056db4-2b75-47f1-958b-7e0c19a7f69c",
   "metadata": {},
   "outputs": [],
   "source": [
    "# Apply log transformation to the target variable 'MEDV'\n",
    "log_medv = np.log(boston_data.MEDV)"
   ]
  },
  {
   "cell_type": "code",
   "execution_count": null,
   "id": "25363f00-7c6d-4741-8253-66ad543f9701",
   "metadata": {},
   "outputs": [
    {
     "data": {
      "image/png": "[encoded data removed]",
      "text/plain": [
       "<Figure size 640x480 with 1 Axes>"
      ]
     },
     "metadata": {},
     "output_type": "display_data"
    }
   ],
   "source": [
    "# Plot the histogram of the log-transformed target variable 'MEDV'\n",
    "log_medv.hist();"
   ]
  },
  {
   "cell_type": "code",
   "execution_count": null,
   "id": "5117c643-47ca-45c5-8cc5-19e75d3a6d1c",
   "metadata": {},
   "outputs": [
    {
     "data": {
      "text/plain": [
       "NormaltestResult(statistic=np.float64(17.21801696640698), pvalue=np.float64(0.00018245472768345196))"
      ]
     },
     "execution_count": 17,
     "metadata": {},
     "output_type": "execute_result"
    }
   ],
   "source": [
    "# Apply the normality test to the log-transformed target variable\n",
    "normaltest(log_medv)"
   ]
  },
  {
   "cell_type": "markdown",
   "id": "6d8049c2-df7f-4c6f-90df-b3b675b37675",
   "metadata": {},
   "source": [
    "Conclusion: The output is closer to normal distribution, but still not completely normal.\n"
   ]
  },
  {
   "cell_type": "markdown",
   "id": "36a8d3b9-6908-4487-a09e-c65dd9bbdeea",
   "metadata": {},
   "source": [
    "### Square root Transformation\n",
    "\n",
    "The square root transformation is another transformation that can transform non-normally distributed data into normally distributed data:\n"
   ]
  },
  {
   "cell_type": "code",
   "execution_count": null,
   "id": "d4de4753-57e8-4738-abab-e51b09e85213",
   "metadata": {},
   "outputs": [
    {
     "data": {
      "image/png": "[encoded data removed]",
      "text/plain": [
       "<Figure size 640x480 with 1 Axes>"
      ]
     },
     "metadata": {},
     "output_type": "display_data"
    }
   ],
   "source": [
    "# Plot squared normal data\n",
    "data = plot_square_normal_data()"
   ]
  },
  {
   "cell_type": "markdown",
   "id": "7c0f440a-049e-4c98-ac32-ccd273a67294",
   "metadata": {},
   "source": [
    "You may notice that the output still exhibits a slight right skew.\n"
   ]
  },
  {
   "cell_type": "code",
   "execution_count": null,
   "id": "bf8f7562-e0bb-4825-9544-e9ce7a26d9c1",
   "metadata": {},
   "outputs": [
    {
     "data": {
      "image/png": "[encoded data removed]",
      "text/plain": [
       "<Figure size 640x480 with 1 Axes>"
      ]
     },
     "metadata": {},
     "output_type": "display_data"
    }
   ],
   "source": [
    "# Apply square root transformation\n",
    "plt.hist(np.sqrt(data));"
   ]
  },
  {
   "cell_type": "markdown",
   "id": "e9cd42cf-7318-4942-aad9-5bda096d1d19",
   "metadata": {},
   "source": [
    "#### Exercise\n"
   ]
  },
  {
   "cell_type": "markdown",
   "id": "1332c0fb-2f33-4575-b5db-b0e09900f6dc",
   "metadata": {},
   "source": [
    "Apply the square root transformation to the Boston Housing data target and test whether the result is normally distributed.\n"
   ]
  },
  {
   "cell_type": "code",
   "execution_count": null,
   "id": "fc2c8aea-50a6-452a-968e-53812f207b75",
   "metadata": {},
   "outputs": [
    {
     "data": {
      "text/plain": [
       "(array([  9.,  18.,  40.,  67., 131., 121.,  48.,  36.,  10.,  26.]),\n",
       " array([2.23606798, 2.71956796, 3.20306794, 3.68656793, 4.17006791,\n",
       "        4.65356789, 5.13706788, 5.62056786, 6.10406784, 6.58756783,\n",
       "        7.07106781]),\n",
       " <BarContainer object of 10 artists>)"
      ]
     },
     "execution_count": 20,
     "metadata": {},
     "output_type": "execute_result"
    },
    {
     "data": {
      "image/png": "[encoded data removed]",
      "text/plain": [
       "<Figure size 640x480 with 1 Axes>"
      ]
     },
     "metadata": {},
     "output_type": "display_data"
    }
   ],
   "source": [
    "# Apply square root transformation to the target variable 'MEDV'\n",
    "sqrt_medv = np.sqrt(boston_data.MEDV)\n",
    "plt.hist(sqrt_medv)"
   ]
  },
  {
   "cell_type": "markdown",
   "id": "dff25b9b-9df6-4adb-9d46-c2c5b35b2b1e",
   "metadata": {},
   "source": [
    "<details><summary>Click here for a sample python solution</summary>\n",
    "\n",
    "```python\n",
    "sqrt_medv = np.sqrt(boston_data.MEDV)\n",
    "plt.hist(sqrt_medv)\n",
    "\n",
    "```\n"
   ]
  },
  {
   "cell_type": "code",
   "execution_count": null,
   "id": "4c2bdf32-cac0-42d1-a787-bc6acae1974e",
   "metadata": {},
   "outputs": [
    {
     "data": {
      "text/plain": [
       "NormaltestResult(statistic=np.float64(20.487090826863067), pvalue=np.float64(3.558645701429252e-05))"
      ]
     },
     "execution_count": 21,
     "metadata": {},
     "output_type": "execute_result"
    }
   ],
   "source": [
    "# Apply the normality test to the square root transformed target variable\n",
    "normaltest(sqrt_medv)"
   ]
  },
  {
   "cell_type": "markdown",
   "id": "a9556fe3-8937-4dc5-a66b-98bafb16531e",
   "metadata": {},
   "source": [
    "### Box cox Transformation\n"
   ]
  },
  {
   "cell_type": "markdown",
   "id": "ce5adc1d-c9c8-4852-a66b-19617d0497c3",
   "metadata": {},
   "source": [
    "The box cox transformation is a parametrized transformation that tries to get distributions \"as close to a normal distribution as possible\".\n",
    "\n",
    "It is defined as:\n",
    "\n",
    "$$ \\text{boxcox}(y_i) = \\frac{y_i^{\\lambda} - 1}{\\lambda} $$\n",
    "\n",
    "You can think of as a generalization of the square root function: the square root function uses the exponent of 0.5, but box cox lets its exponent vary so it can find the best one.\n"
   ]
  },
  {
   "cell_type": "code",
   "execution_count": 22,
   "id": "169fd63c-63f8-4664-8856-b6d80ee9f4ac",
   "metadata": {},
   "outputs": [],
   "source": [
    "from scipy.stats import boxcox"
   ]
  },
  {
   "cell_type": "code",
   "execution_count": null,
   "id": "3cd7ca79-a62e-41d2-936e-41f2fa4fe9c1",
   "metadata": {},
   "outputs": [],
   "source": [
    "# Apply Box-Cox transformation to the target variable 'MEDV'\n",
    "bc_result = boxcox(boston_data.MEDV)\n",
    "boxcox_medv = bc_result[0]\n",
    "lam = bc_result[1]"
   ]
  },
  {
   "cell_type": "code",
   "execution_count": null,
   "id": "f7e297be-fc79-4453-9d35-5a66f1458284",
   "metadata": {},
   "outputs": [
    {
     "data": {
      "text/plain": [
       "np.float64(0.21662090066621686)"
      ]
     },
     "execution_count": 24,
     "metadata": {},
     "output_type": "execute_result"
    }
   ],
   "source": [
    "lam"
   ]
  },
  {
   "cell_type": "code",
   "execution_count": null,
   "id": "41ed598c-0c13-440f-a545-3d35fc984ae3",
   "metadata": {},
   "outputs": [
    {
     "data": {
      "image/png": "[encoded data removed]",
      "text/plain": [
       "<Figure size 640x480 with 1 Axes>"
      ]
     },
     "metadata": {},
     "output_type": "display_data"
    }
   ],
   "source": [
    "# # Plot the histogram of the MEDV\n",
    "boston_data['MEDV'].hist();"
   ]
  },
  {
   "cell_type": "code",
   "execution_count": null,
   "id": "dfdf62b6-b3d8-4812-a228-a39137b4bb1c",
   "metadata": {},
   "outputs": [
    {
     "data": {
      "image/png": "[encoded data removed]",
      "text/plain": [
       "<Figure size 640x480 with 1 Axes>"
      ]
     },
     "metadata": {},
     "output_type": "display_data"
    }
   ],
   "source": [
    "# Plot the histogram of the Box-Cox transformed target variable 'MEDV'\n",
    "plt.hist(boxcox_medv);"
   ]
  },
  {
   "cell_type": "code",
   "execution_count": null,
   "id": "7eaa99a4-dbd7-4f4e-865a-a907e1cf9a0c",
   "metadata": {},
   "outputs": [
    {
     "data": {
      "text/plain": [
       "NormaltestResult(statistic=np.float64(4.513528777459233), pvalue=np.float64(0.10468866918093514))"
      ]
     },
     "execution_count": 27,
     "metadata": {},
     "output_type": "execute_result"
    }
   ],
   "source": [
    "# Apply the normality test to the Box-Cox transformed target variable\n",
    "normaltest(boxcox_medv)"
   ]
  },
  {
   "cell_type": "markdown",
   "id": "16b845c8-8c6b-4949-827d-83c2e89be66c",
   "metadata": {},
   "source": [
    "We find that the box cox results in a graph which is significantly more normally distributed (according to p value) than the other two distributions.This can be even above 0.05.\n",
    "\n",
    "Now that we have a normally distributed y-variable, let's test Regression using this transformed target variables.\n"
   ]
  },
  {
   "cell_type": "markdown",
   "id": "63921cc4-1784-4e79-82c7-68e24c6d3b8d",
   "metadata": {},
   "source": [
    "### Testing regression:\n"
   ]
  },
  {
   "cell_type": "code",
   "execution_count": null,
   "id": "74f2bd8d-4378-4854-a339-38a2d1689c59",
   "metadata": {},
   "outputs": [],
   "source": [
    "# Import additional libraries\n",
    "from sklearn.linear_model import LinearRegression\n",
    "from sklearn.metrics import r2_score\n",
    "from sklearn.model_selection import train_test_split\n",
    "from sklearn.preprocessing import (StandardScaler, \n",
    "                                   PolynomialFeatures)"
   ]
  },
  {
   "cell_type": "code",
   "execution_count": null,
   "id": "f85ff94b-983e-43e1-a0dd-790aa5599ee0",
   "metadata": {},
   "outputs": [],
   "source": [
    "# Create a Linear Regression model\n",
    "lr = LinearRegression()"
   ]
  },
  {
   "cell_type": "markdown",
   "id": "e63cc413-0e8e-431a-897e-463b2779b2dd",
   "metadata": {},
   "source": [
    "**Define and load the predictor (X) and Target(y) variables**\n"
   ]
  },
  {
   "cell_type": "code",
   "execution_count": null,
   "id": "316f2e08-3489-488e-aad6-4aabb0cdcf69",
   "metadata": {},
   "outputs": [],
   "source": [
    "# Define feature matrix X and target vector y\n",
    "y_col = \"MEDV\"\n",
    "\n",
    "X = boston_data.drop(y_col, axis=1)\n",
    "y = boston_data[y_col]\n"
   ]
  },
  {
   "cell_type": "markdown",
   "id": "48ce8c5a-063e-480d-8ad6-858fb7483298",
   "metadata": {},
   "source": [
    "**Create Polynomial Features**\n"
   ]
  },
  {
   "cell_type": "code",
   "execution_count": null,
   "id": "e3807e3b-ad4c-4b1d-ac31-173115c29caf",
   "metadata": {},
   "outputs": [],
   "source": [
    "# Create polynomial features\n",
    "pf = PolynomialFeatures(degree=2, include_bias=False)\n",
    "X_pf = pf.fit_transform(X)"
   ]
  },
  {
   "cell_type": "markdown",
   "id": "70a014d5-e84d-4e41-8dce-127c61e2151e",
   "metadata": {},
   "source": [
    "**Split the data into Training and Test Sets**   \n",
    "\n",
    "The split ratio here is 0.7 and 0.3 which means we will assign **70%** data for training and **30%** data for testing\n"
   ]
  },
  {
   "cell_type": "code",
   "execution_count": null,
   "id": "30c8b54d-b6ab-4137-90bb-27b554437a7c",
   "metadata": {},
   "outputs": [],
   "source": [
    "# Split the dataset into training and testing sets\n",
    "X_train, X_test, y_train, y_test = train_test_split(X_pf, y, test_size=0.3, \n",
    "                                                    random_state=72018)"
   ]
  },
  {
   "cell_type": "markdown",
   "id": "caada91c-f4ee-459c-99f3-0f086ad0ece7",
   "metadata": {},
   "source": [
    "**Normalize the training data using `StandardScaler` on `X_train`. Use fit_transform() function**\n"
   ]
  },
  {
   "cell_type": "code",
   "execution_count": null,
   "id": "7dcc751f-fffb-4154-b409-66dc9daa4193",
   "metadata": {},
   "outputs": [],
   "source": [
    "# Standardize the feature matrix\n",
    "s = StandardScaler()\n",
    "X_train_s = s.fit_transform(X_train)"
   ]
  },
  {
   "cell_type": "markdown",
   "id": "6fe1c6c9-dc24-4a40-ad1f-1652135cd511",
   "metadata": {},
   "source": [
    "**Discuss: what transformation do we need to apply next?**\n",
    "\n",
    "Apply the appropriate transformation.\n"
   ]
  },
  {
   "cell_type": "code",
   "execution_count": null,
   "id": "6cf53ce5-bf3f-4271-b578-1ea3a75f20bc",
   "metadata": {},
   "outputs": [],
   "source": [
    "# Apply Box-Cox transformation to the target variable 'y_train'\n",
    "bc_result2 = boxcox(y_train)\n",
    "y_train_bc = bc_result2[0]\n",
    "lam2 = bc_result2[1]\n"
   ]
  },
  {
   "cell_type": "markdown",
   "id": "19ea4817-8530-43d8-9606-dec7e5f08782",
   "metadata": {},
   "source": [
    "<details><summary>Click here for a sample python solution</summary>\n",
    "\n",
    "```python\n",
    "    \n",
    "bc_result2 = boxcox(y_train)\n",
    "y_train_bc = bc_result2[0]\n",
    "lam2 = bc_result2[1]\n",
    "\n",
    "```\n"
   ]
  },
  {
   "cell_type": "markdown",
   "id": "b82d28ec-edff-4d52-828c-5a6e6c8d048e",
   "metadata": {},
   "source": [
    "As before, we'll now:\n",
    "\n",
    "1. Fit regression\n",
    "1. Transform testing data\n",
    "1. Predict on testing data\n"
   ]
  },
  {
   "cell_type": "code",
   "execution_count": null,
   "id": "dd41de74-1300-40e5-b737-b5ab1b932eee",
   "metadata": {},
   "outputs": [
    {
     "data": {
      "text/plain": [
       "(354,)"
      ]
     },
     "execution_count": 35,
     "metadata": {},
     "output_type": "execute_result"
    }
   ],
   "source": [
    "# Check the shape (dimensions) of the transformed training target data\n",
    "y_train_bc.shape"
   ]
  },
  {
   "cell_type": "code",
   "execution_count": 42,
   "id": "04f3471c-8fd0-43e5-ae34-5309b092cdd4",
   "metadata": {},
   "outputs": [],
   "source": [
    "# Fit the linear regression model on the scaled training data\n",
    "lr.fit(X_train_s, y_train_bc)\n",
    "\n",
    "# Apply the same scaling transformation to the test set\n",
    "X_test_s = s.transform(X_test)\n",
    "\n",
    "# Predict the target values for the test set using the trained model\n",
    "y_pred_bc = lr.predict(X_test_s)"
   ]
  },
  {
   "cell_type": "markdown",
   "id": "9adbc269-68cb-4a12-a10a-d5556ee9c91d",
   "metadata": {},
   "source": [
    "### Discussion\n",
    "\n",
    "* Are we done?\n",
    "* What did we predict?\n",
    "* How would you interpret these predictions?\n"
   ]
  },
  {
   "cell_type": "markdown",
   "id": "340d3011-10f9-4ad6-98a6-c236d1f1aeef",
   "metadata": {},
   "source": [
    "#### Apply inverse transformations to be able to use these in a Regression context\n"
   ]
  },
  {
   "cell_type": "markdown",
   "id": "eefd944e-6c31-4ec3-bc9e-a15a561127f2",
   "metadata": {},
   "source": [
    "Every transformation has an inverse transformation. The inverse transformation of $f(x) = \\sqrt{x}$ is $f^{-1}(x) = x^2$, for example. Box cox has an inverse transformation as well: notice that we have to pass in the lambda value that we found from before:\n"
   ]
  },
  {
   "cell_type": "code",
   "execution_count": 37,
   "id": "7a5dd78d-f7a5-4e19-a873-2aba08862acc",
   "metadata": {},
   "outputs": [],
   "source": [
    "from scipy.special import inv_boxcox"
   ]
  },
  {
   "cell_type": "code",
   "execution_count": null,
   "id": "345a27f8-de2b-4165-a7b2-5c8c5b7f219d",
   "metadata": {},
   "outputs": [
    {
     "data": {
      "text/plain": [
       "array([24. , 21.6, 34.7, 33.4, 36.2, 28.7, 22.9, 27.1, 16.5, 18.9])"
      ]
     },
     "execution_count": 38,
     "metadata": {},
     "output_type": "execute_result"
    }
   ],
   "source": [
    "# Inverse Box-Cox transformation to get predictions in original scale\n",
    "inv_boxcox(boxcox_medv, lam)[:10]"
   ]
  },
  {
   "cell_type": "code",
   "execution_count": null,
   "id": "ff2071f7-74b3-44c2-9f41-196064c025e2",
   "metadata": {},
   "outputs": [
    {
     "data": {
      "text/plain": [
       "array([24. , 21.6, 34.7, 33.4, 36.2, 28.7, 22.9, 27.1, 16.5, 18.9])"
      ]
     },
     "execution_count": 39,
     "metadata": {},
     "output_type": "execute_result"
    }
   ],
   "source": [
    "# Original 10 target values for comparison \n",
    "boston_data['MEDV'].values[:10]"
   ]
  },
  {
   "cell_type": "markdown",
   "id": "1bb07f06-7140-44a9-8c8f-d53121d87ffe",
   "metadata": {},
   "source": [
    "Exactly the same, as we would hope!\n"
   ]
  },
  {
   "cell_type": "markdown",
   "id": "0a6e6894-29c3-4270-a487-f36bc5cfcb9e",
   "metadata": {},
   "source": [
    "### Exercise:\n",
    "\n",
    "1. Apply the appropriate inverse transformation to `y_pred_bc`.\n",
    "2. Calculate the $R^2$ using the result of this inverse transformation and `y_test`.  \n",
    "\n",
    "**Hint:** Use the **inv_boxcox()** function to get the transformed predicted values\n"
   ]
  },
  {
   "cell_type": "code",
   "execution_count": null,
   "id": "7d97f988-b4e1-44c4-bd95-ed104289edf6",
   "metadata": {},
   "outputs": [
    {
     "data": {
      "text/plain": [
       "0.8884878246336786"
      ]
     },
     "execution_count": 40,
     "metadata": {},
     "output_type": "execute_result"
    }
   ],
   "source": [
    "# Inverse Box-Cox transformation to get predictions in original scale\n",
    "y_pred_tran = inv_boxcox(y_pred_bc,lam2)\n",
    "r2_score(y_test,y_pred_tran)"
   ]
  },
  {
   "cell_type": "markdown",
   "id": "be5c5121-db8e-4513-a3f7-ee6e856ecba4",
   "metadata": {},
   "source": [
    "<details><summary>Click here for a sample python solution</summary>\n",
    "\n",
    "```python\n",
    "y_pred_tran = inv_boxcox(y_pred_bc,lam2)\n",
    "r2_score(y_test,y_pred_tran)\n",
    "\n",
    "```\n"
   ]
  },
  {
   "cell_type": "markdown",
   "id": "d99e1d58-9d1b-4f6f-b4ef-5e425b5502f0",
   "metadata": {},
   "source": [
    "## Practice Exercise: \n",
    "\n",
    "### Determine the R^2 of a LinearRegression without the box cox transformation.\n"
   ]
  },
  {
   "cell_type": "code",
   "execution_count": 43,
   "id": "e7732c59-8c07-45aa-b597-0e34df8d4f7c",
   "metadata": {},
   "outputs": [
    {
     "data": {
      "text/plain": [
       "0.8689110469231008"
      ]
     },
     "execution_count": 43,
     "metadata": {},
     "output_type": "execute_result"
    }
   ],
   "source": [
    "# Initialize a Linear Regression model\n",
    "lr = LinearRegression()\n",
    "\n",
    "# Train (fit) the model on the scaled training data\n",
    "lr.fit(X_train_s, y_train)\n",
    "\n",
    "# Make predictions on the scaled test data\n",
    "lr_pred = lr.predict(X_test_s)\n",
    "\n",
    "# Evaluate the model performance using R² score\n",
    "r2_score(y_test, lr_pred)\n"
   ]
  },
  {
   "cell_type": "markdown",
   "id": "02b06db4-c7af-4e1b-95c0-0a392d2154b5",
   "metadata": {},
   "source": [
    "<details><summary>Click here for a sample python solution</summary>\n",
    "\n",
    "```python\n",
    "lr = LinearRegression()\n",
    "lr.fit(X_train_s,y_train)\n",
    "lr_pred = lr.predict(X_test_s)\n",
    "r2_score(y_test,lr_pred)\n",
    "\n",
    "```\n"
   ]
  },
  {
   "cell_type": "markdown",
   "id": "1631ab96-9eed-4ced-bad5-4a4d30590d20",
   "metadata": {},
   "source": [
    "---\n",
    "## Authors:\n",
    "\n",
    "Niveditha\n",
    "\n",
    "\n",
    "<!--## Change Log\n",
    "\n",
    "|  Date (YYYY-MM-DD) |  Version | Changed By  |  Change Description |\n",
    "|---|---|---|---|\n",
    "| 2023-10-11 | 1.0 |Niveditha | Updated the notebook |\n",
    "-->\n",
    "\n",
    "\n",
    "\n",
    "<hr/>\n",
    "\n",
    "## <h3 align=\"center\"> © IBM Corporation 2023. All rights reserved. <h3/>\n"
   ]
  }
 ],
 "metadata": {
  "kernelspec": {
   "display_name": "Python 3",
   "language": "python",
   "name": "python3"
  },
  "language_info": {
   "codemirror_mode": {
    "name": "ipython",
    "version": 3
   },
   "file_extension": ".py",
   "mimetype": "text/x-python",
   "name": "python",
   "nbconvert_exporter": "python",
   "pygments_lexer": "ipython3",
   "version": "3.12.5"
  },
  "prev_pub_hash": "8ff7d2bd51414f66643239307dd66c2b4194e394754faa9094ec58484e4c02d3"
 },
 "nbformat": 4,
 "nbformat_minor": 4
}
